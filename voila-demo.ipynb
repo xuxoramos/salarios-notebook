{
 "cells": [
  {
   "cell_type": "markdown",
   "metadata": {},
   "source": [
    "# RF aplicado a encuesta de salarios SG\n",
    "\n",
    "Este trabajo pretende descubrir grupos emergentes en las encuestas de salarios de SG entre los años 2022, 2021, 2020.\n",
    "\n",
    "Estos grupos serán **por separado**, debido a que no podemos garantizar que las observaciones de 2 o los 3 años pertenecen al mismo individuo.\n",
    "\n",
    "También aprovecharemos para introducir [Voilá](https://github.com/voila-dashboards/voila)!\n",
    "\n",
    "Primero cargamos los datos:"
   ]
  },
  {
   "cell_type": "code",
   "execution_count": 18,
   "metadata": {},
   "outputs": [],
   "source": [
    "import pandas as pd\n",
    "import numpy as np\n",
    "from IPython.display import display, HTML, clear_output\n",
    "import matplotlib.pyplot as plt\n",
    "from sklearn.ensemble import RandomForestClassifier\n",
    "from sklearn.model_selection import train_test_split\n",
    "from sklearn import metrics\n",
    "from sklearn import preprocessing\n",
    "from yellowbrick.classifier import classification_report\n",
    "import ipywidgets as widgets\n",
    "import warnings\n",
    "import plotly.express as px\n",
    "import plotly.graph_objects as go\n",
    "\n",
    "warnings.filterwarnings('ignore')\n",
    "\n",
    "\n",
    "df_22 = pd.read_csv(\"answers-2022.csv\", index_col=0)\n",
    "df_21 = pd.read_csv(\"answers-2021.csv\", index_col=0)\n",
    "df_20 = pd.read_csv(\"answers-2020.csv\", index_col=0)\n",
    "# El salario de las personas de Mx se guarda en la columna salarymx y está en pesos.\n",
    "# En la mayoría de los casos solo vamos a tomar en cuenta los datos de personas en Mx con salario en pesos.\n",
    "df_22 = df_22[(df_22['country'] == 'México')]\n",
    "df_21 = df_21[(df_21['country'] == 'México')]\n",
    "df_20 = df_20[(df_20['country'] == 'México')]"
   ]
  },
  {
   "cell_type": "markdown",
   "metadata": {},
   "source": [
    "Y luego vemos si tenemos las mismas columnas en cada dataframe.\n",
    "\n",
    "Esto es importante porque lo que queremos hacer es correr un modelo de clasificación no lineal, y para ello es importante, entre otras cosas:\n",
    "\n",
    "1. tener las mismas columnas, o eliminar algunas para lograrlo.\n",
    "2. tener aproximadamente la misma cantidad de observaciones."
   ]
  },
  {
   "cell_type": "code",
   "execution_count": 19,
   "metadata": {},
   "outputs": [
    {
     "data": {
      "text/html": [
       "<table border=\"1\" class=\"dataframe\">\n",
       "  <thead>\n",
       "    <tr style=\"text-align: right;\">\n",
       "      <th></th>\n",
       "      <th>columns_2022</th>\n",
       "      <th>columns_2021</th>\n",
       "      <th>columns_2020</th>\n",
       "    </tr>\n",
       "  </thead>\n",
       "  <tbody>\n",
       "    <tr>\n",
       "      <th>0</th>\n",
       "      <td>created</td>\n",
       "      <td>created</td>\n",
       "      <td>ip_address</td>\n",
       "    </tr>\n",
       "    <tr>\n",
       "      <th>1</th>\n",
       "      <td>salarymx</td>\n",
       "      <td>salarymx</td>\n",
       "      <td>created</td>\n",
       "    </tr>\n",
       "    <tr>\n",
       "      <th>2</th>\n",
       "      <td>salaryusd</td>\n",
       "      <td>salaryusd</td>\n",
       "      <td>recaptcha_score</td>\n",
       "    </tr>\n",
       "    <tr>\n",
       "      <th>3</th>\n",
       "      <td>extramx</td>\n",
       "      <td>extramx</td>\n",
       "      <td>salarymx</td>\n",
       "    </tr>\n",
       "    <tr>\n",
       "      <th>4</th>\n",
       "      <td>extrausd</td>\n",
       "      <td>extrausd</td>\n",
       "      <td>salaryusd</td>\n",
       "    </tr>\n",
       "    <tr>\n",
       "      <th>5</th>\n",
       "      <td>variation</td>\n",
       "      <td>variation</td>\n",
       "      <td>extramx</td>\n",
       "    </tr>\n",
       "    <tr>\n",
       "      <th>6</th>\n",
       "      <td>english_num</td>\n",
       "      <td>english_num</td>\n",
       "      <td>extrausd</td>\n",
       "    </tr>\n",
       "    <tr>\n",
       "      <th>7</th>\n",
       "      <td>english_label</td>\n",
       "      <td>english_label</td>\n",
       "      <td>variation</td>\n",
       "    </tr>\n",
       "    <tr>\n",
       "      <th>8</th>\n",
       "      <td>age</td>\n",
       "      <td>age</td>\n",
       "      <td>english_num</td>\n",
       "    </tr>\n",
       "    <tr>\n",
       "      <th>9</th>\n",
       "      <td>experience</td>\n",
       "      <td>experience</td>\n",
       "      <td>english_label</td>\n",
       "    </tr>\n",
       "    <tr>\n",
       "      <th>10</th>\n",
       "      <td>seniority</td>\n",
       "      <td>seniority</td>\n",
       "      <td>age</td>\n",
       "    </tr>\n",
       "    <tr>\n",
       "      <th>11</th>\n",
       "      <td>country</td>\n",
       "      <td>country</td>\n",
       "      <td>experience</td>\n",
       "    </tr>\n",
       "    <tr>\n",
       "      <th>12</th>\n",
       "      <td>city</td>\n",
       "      <td>city</td>\n",
       "      <td>seniority</td>\n",
       "    </tr>\n",
       "    <tr>\n",
       "      <th>13</th>\n",
       "      <td>profile</td>\n",
       "      <td>profile</td>\n",
       "      <td>country</td>\n",
       "    </tr>\n",
       "    <tr>\n",
       "      <th>14</th>\n",
       "      <td>edutype</td>\n",
       "      <td>edutype</td>\n",
       "      <td>city</td>\n",
       "    </tr>\n",
       "    <tr>\n",
       "      <th>15</th>\n",
       "      <td>orgtype</td>\n",
       "      <td>orgtype</td>\n",
       "      <td>profile</td>\n",
       "    </tr>\n",
       "    <tr>\n",
       "      <th>16</th>\n",
       "      <td>emptype</td>\n",
       "      <td>emptype</td>\n",
       "      <td>edutype</td>\n",
       "    </tr>\n",
       "    <tr>\n",
       "      <th>17</th>\n",
       "      <td>remote</td>\n",
       "      <td>remote</td>\n",
       "      <td>orgtype</td>\n",
       "    </tr>\n",
       "    <tr>\n",
       "      <th>18</th>\n",
       "      <td>gender</td>\n",
       "      <td>gender</td>\n",
       "      <td>emptype</td>\n",
       "    </tr>\n",
       "    <tr>\n",
       "      <th>19</th>\n",
       "      <td>education</td>\n",
       "      <td>education</td>\n",
       "      <td>remote</td>\n",
       "    </tr>\n",
       "    <tr>\n",
       "      <th>20</th>\n",
       "      <td>act_dba</td>\n",
       "      <td>act_dba</td>\n",
       "      <td>gender</td>\n",
       "    </tr>\n",
       "    <tr>\n",
       "      <th>21</th>\n",
       "      <td>act_req</td>\n",
       "      <td>act_req</td>\n",
       "      <td>education</td>\n",
       "    </tr>\n",
       "    <tr>\n",
       "      <th>22</th>\n",
       "      <td>act_arq</td>\n",
       "      <td>act_arq</td>\n",
       "      <td>act_dba</td>\n",
       "    </tr>\n",
       "    <tr>\n",
       "      <th>23</th>\n",
       "      <td>act_bi</td>\n",
       "      <td>act_bi</td>\n",
       "      <td>act_req</td>\n",
       "    </tr>\n",
       "    <tr>\n",
       "      <th>24</th>\n",
       "      <td>act_cap</td>\n",
       "      <td>act_cap</td>\n",
       "      <td>act_arq</td>\n",
       "    </tr>\n",
       "    <tr>\n",
       "      <th>25</th>\n",
       "      <td>act_datascience</td>\n",
       "      <td>act_dsc</td>\n",
       "      <td>act_bi</td>\n",
       "    </tr>\n",
       "    <tr>\n",
       "      <th>26</th>\n",
       "      <td>act_spi</td>\n",
       "      <td>act_spi</td>\n",
       "      <td>act_cap</td>\n",
       "    </tr>\n",
       "    <tr>\n",
       "      <th>27</th>\n",
       "      <td>act_cons</td>\n",
       "      <td>act_cons</td>\n",
       "      <td>act_dsc</td>\n",
       "    </tr>\n",
       "    <tr>\n",
       "      <th>28</th>\n",
       "      <td>act_prog</td>\n",
       "      <td>act_dir</td>\n",
       "      <td>act_spi</td>\n",
       "    </tr>\n",
       "    <tr>\n",
       "      <th>29</th>\n",
       "      <td>act_mobile</td>\n",
       "      <td>act_doc</td>\n",
       "      <td>act_cons</td>\n",
       "    </tr>\n",
       "    <tr>\n",
       "      <th>30</th>\n",
       "      <td>act_front</td>\n",
       "      <td>act_techwrite</td>\n",
       "      <td>act_dir</td>\n",
       "    </tr>\n",
       "    <tr>\n",
       "      <th>31</th>\n",
       "      <td>act_devrel</td>\n",
       "      <td>act_devops</td>\n",
       "      <td>act_doc</td>\n",
       "    </tr>\n",
       "    <tr>\n",
       "      <th>32</th>\n",
       "      <td>act_dir</td>\n",
       "      <td>act_erp</td>\n",
       "      <td>act_techwrite</td>\n",
       "    </tr>\n",
       "    <tr>\n",
       "      <th>33</th>\n",
       "      <td>act_doc</td>\n",
       "      <td>act_deng</td>\n",
       "      <td>act_devops</td>\n",
       "    </tr>\n",
       "    <tr>\n",
       "      <th>34</th>\n",
       "      <td>act_techwrite</td>\n",
       "      <td>act_techsales</td>\n",
       "      <td>act_erp</td>\n",
       "    </tr>\n",
       "    <tr>\n",
       "      <th>35</th>\n",
       "      <td>act_infra</td>\n",
       "      <td>act_prog</td>\n",
       "      <td>act_deng</td>\n",
       "    </tr>\n",
       "    <tr>\n",
       "      <th>36</th>\n",
       "      <td>act_erp</td>\n",
       "      <td>act_front</td>\n",
       "      <td>act_techsales</td>\n",
       "    </tr>\n",
       "    <tr>\n",
       "      <th>37</th>\n",
       "      <td>act_dataeng</td>\n",
       "      <td>act_pm</td>\n",
       "      <td>act_prog</td>\n",
       "    </tr>\n",
       "    <tr>\n",
       "      <th>38</th>\n",
       "      <td>act_techsales</td>\n",
       "      <td>act_infosec</td>\n",
       "      <td>act_front</td>\n",
       "    </tr>\n",
       "    <tr>\n",
       "      <th>39</th>\n",
       "      <td>act_pm</td>\n",
       "      <td>act_soporte</td>\n",
       "      <td>act_pm</td>\n",
       "    </tr>\n",
       "    <tr>\n",
       "      <th>40</th>\n",
       "      <td>act_iot</td>\n",
       "      <td>act_test</td>\n",
       "      <td>act_infosec</td>\n",
       "    </tr>\n",
       "    <tr>\n",
       "      <th>41</th>\n",
       "      <td>act_infosec</td>\n",
       "      <td>act_uxd</td>\n",
       "      <td>act_soporte</td>\n",
       "    </tr>\n",
       "    <tr>\n",
       "      <th>42</th>\n",
       "      <td>act_soporte</td>\n",
       "      <td>act_ventas</td>\n",
       "      <td>act_test</td>\n",
       "    </tr>\n",
       "    <tr>\n",
       "      <th>43</th>\n",
       "      <td>act_test</td>\n",
       "      <td>lang_bash</td>\n",
       "      <td>act_uxd</td>\n",
       "    </tr>\n",
       "    <tr>\n",
       "      <th>44</th>\n",
       "      <td>act_uxd</td>\n",
       "      <td>lang_csharp</td>\n",
       "      <td>act_ventas</td>\n",
       "    </tr>\n",
       "    <tr>\n",
       "      <th>45</th>\n",
       "      <td>act_ventas</td>\n",
       "      <td>lang_clang</td>\n",
       "      <td>lang_bash</td>\n",
       "    </tr>\n",
       "    <tr>\n",
       "      <th>46</th>\n",
       "      <td>lang_bash</td>\n",
       "      <td>lang_cobol</td>\n",
       "      <td>lang_csharp</td>\n",
       "    </tr>\n",
       "    <tr>\n",
       "      <th>47</th>\n",
       "      <td>lang_csharp</td>\n",
       "      <td>lang_dart</td>\n",
       "      <td>lang_clang</td>\n",
       "    </tr>\n",
       "    <tr>\n",
       "      <th>48</th>\n",
       "      <td>lang_clang</td>\n",
       "      <td>lang_delphi</td>\n",
       "      <td>lang_cobol</td>\n",
       "    </tr>\n",
       "    <tr>\n",
       "      <th>49</th>\n",
       "      <td>lang_cobol</td>\n",
       "      <td>lang_elixir</td>\n",
       "      <td>lang_dart</td>\n",
       "    </tr>\n",
       "    <tr>\n",
       "      <th>50</th>\n",
       "      <td>lang_delphi</td>\n",
       "      <td>lang_assm</td>\n",
       "      <td>lang_delphi</td>\n",
       "    </tr>\n",
       "    <tr>\n",
       "      <th>51</th>\n",
       "      <td>lang_elixir</td>\n",
       "      <td>lang_go</td>\n",
       "      <td>lang_elixir</td>\n",
       "    </tr>\n",
       "    <tr>\n",
       "      <th>52</th>\n",
       "      <td>lang_go</td>\n",
       "      <td>lang_groovy</td>\n",
       "      <td>lang_assm</td>\n",
       "    </tr>\n",
       "    <tr>\n",
       "      <th>53</th>\n",
       "      <td>lang_groovy</td>\n",
       "      <td>lang_java</td>\n",
       "      <td>lang_go</td>\n",
       "    </tr>\n",
       "    <tr>\n",
       "      <th>54</th>\n",
       "      <td>lang_java</td>\n",
       "      <td>lang_js</td>\n",
       "      <td>lang_groovy</td>\n",
       "    </tr>\n",
       "    <tr>\n",
       "      <th>55</th>\n",
       "      <td>lang_js</td>\n",
       "      <td>lang_julia</td>\n",
       "      <td>lang_java</td>\n",
       "    </tr>\n",
       "    <tr>\n",
       "      <th>56</th>\n",
       "      <td>lang_kotlin</td>\n",
       "      <td>lang_kotlin</td>\n",
       "      <td>lang_js</td>\n",
       "    </tr>\n",
       "    <tr>\n",
       "      <th>57</th>\n",
       "      <td>lang_perl</td>\n",
       "      <td>lang_objc</td>\n",
       "      <td>lang_kotlin</td>\n",
       "    </tr>\n",
       "    <tr>\n",
       "      <th>58</th>\n",
       "      <td>lang_php</td>\n",
       "      <td>lang_perl</td>\n",
       "      <td>lang_objc</td>\n",
       "    </tr>\n",
       "    <tr>\n",
       "      <th>59</th>\n",
       "      <td>lang_plsql</td>\n",
       "      <td>lang_php</td>\n",
       "      <td>lang_perl</td>\n",
       "    </tr>\n",
       "    <tr>\n",
       "      <th>60</th>\n",
       "      <td>lang_python</td>\n",
       "      <td>lang_plsql</td>\n",
       "      <td>lang_php</td>\n",
       "    </tr>\n",
       "    <tr>\n",
       "      <th>61</th>\n",
       "      <td>lang_ruby</td>\n",
       "      <td>lang_python</td>\n",
       "      <td>lang_plsql</td>\n",
       "    </tr>\n",
       "    <tr>\n",
       "      <th>62</th>\n",
       "      <td>lang_rust</td>\n",
       "      <td>lang_rlang</td>\n",
       "      <td>lang_python</td>\n",
       "    </tr>\n",
       "    <tr>\n",
       "      <th>63</th>\n",
       "      <td>lang_scala</td>\n",
       "      <td>lang_ruby</td>\n",
       "      <td>lang_rlang</td>\n",
       "    </tr>\n",
       "    <tr>\n",
       "      <th>64</th>\n",
       "      <td>lang_swift</td>\n",
       "      <td>lang_rust</td>\n",
       "      <td>lang_ruby</td>\n",
       "    </tr>\n",
       "    <tr>\n",
       "      <th>65</th>\n",
       "      <td>lang_vbnet</td>\n",
       "      <td>lang_scala</td>\n",
       "      <td>lang_rust</td>\n",
       "    </tr>\n",
       "    <tr>\n",
       "      <th>66</th>\n",
       "      <td>mobile_phonegap</td>\n",
       "      <td>lang_swift</td>\n",
       "      <td>lang_scala</td>\n",
       "    </tr>\n",
       "    <tr>\n",
       "      <th>67</th>\n",
       "      <td>mobile_flutter</td>\n",
       "      <td>lang_vbnet</td>\n",
       "      <td>lang_swift</td>\n",
       "    </tr>\n",
       "    <tr>\n",
       "      <th>68</th>\n",
       "      <td>mobile_ionic</td>\n",
       "      <td>front_angular</td>\n",
       "      <td>lang_vbnet</td>\n",
       "    </tr>\n",
       "    <tr>\n",
       "      <th>69</th>\n",
       "      <td>mobile_java_android</td>\n",
       "      <td>front_phonegap</td>\n",
       "      <td>front_angular</td>\n",
       "    </tr>\n",
       "    <tr>\n",
       "      <th>70</th>\n",
       "      <td>mobile_java_kotlin</td>\n",
       "      <td>front_electron</td>\n",
       "      <td>front_phonegap</td>\n",
       "    </tr>\n",
       "    <tr>\n",
       "      <th>71</th>\n",
       "      <td>mobile_objc</td>\n",
       "      <td>front_flutter</td>\n",
       "      <td>front_electron</td>\n",
       "    </tr>\n",
       "    <tr>\n",
       "      <th>72</th>\n",
       "      <td>mobile_reactnative</td>\n",
       "      <td>front_ionic</td>\n",
       "      <td>front_flutter</td>\n",
       "    </tr>\n",
       "    <tr>\n",
       "      <th>73</th>\n",
       "      <td>mobile_swift</td>\n",
       "      <td>front_ntscript</td>\n",
       "      <td>front_ionic</td>\n",
       "    </tr>\n",
       "    <tr>\n",
       "      <th>74</th>\n",
       "      <td>mobile_xamarin</td>\n",
       "      <td>front_qt</td>\n",
       "      <td>front_ntscript</td>\n",
       "    </tr>\n",
       "    <tr>\n",
       "      <th>75</th>\n",
       "      <td>front_angular</td>\n",
       "      <td>front_react</td>\n",
       "      <td>front_qt</td>\n",
       "    </tr>\n",
       "    <tr>\n",
       "      <th>76</th>\n",
       "      <td>front_django</td>\n",
       "      <td>front_unity</td>\n",
       "      <td>front_react</td>\n",
       "    </tr>\n",
       "    <tr>\n",
       "      <th>77</th>\n",
       "      <td>front_laravel</td>\n",
       "      <td>front_vue</td>\n",
       "      <td>front_unity</td>\n",
       "    </tr>\n",
       "    <tr>\n",
       "      <th>78</th>\n",
       "      <td>front_nextjs</td>\n",
       "      <td>front_xamarin</td>\n",
       "      <td>front_vue</td>\n",
       "    </tr>\n",
       "    <tr>\n",
       "      <th>79</th>\n",
       "      <td>front_react</td>\n",
       "      <td>db_dynamo</td>\n",
       "      <td>front_xamarin</td>\n",
       "    </tr>\n",
       "    <tr>\n",
       "      <th>80</th>\n",
       "      <td>front_ror</td>\n",
       "      <td>db_cosmos</td>\n",
       "      <td>db_dynamo</td>\n",
       "    </tr>\n",
       "    <tr>\n",
       "      <th>81</th>\n",
       "      <td>front_semanticui</td>\n",
       "      <td>db_cassandra</td>\n",
       "      <td>db_cosmos</td>\n",
       "    </tr>\n",
       "    <tr>\n",
       "      <th>82</th>\n",
       "      <td>front_springboot</td>\n",
       "      <td>db_elastic</td>\n",
       "      <td>db_cassandra</td>\n",
       "    </tr>\n",
       "    <tr>\n",
       "      <th>83</th>\n",
       "      <td>front_svelte</td>\n",
       "      <td>db_firebasert</td>\n",
       "      <td>db_elastic</td>\n",
       "    </tr>\n",
       "    <tr>\n",
       "      <th>84</th>\n",
       "      <td>front_vue</td>\n",
       "      <td>db_firestore</td>\n",
       "      <td>db_firebasert</td>\n",
       "    </tr>\n",
       "    <tr>\n",
       "      <th>85</th>\n",
       "      <td>front_xamarin</td>\n",
       "      <td>db_DB2</td>\n",
       "      <td>db_firestore</td>\n",
       "    </tr>\n",
       "    <tr>\n",
       "      <th>86</th>\n",
       "      <td>db_dynamo</td>\n",
       "      <td>db_sqlserver</td>\n",
       "      <td>db_DB2</td>\n",
       "    </tr>\n",
       "    <tr>\n",
       "      <th>87</th>\n",
       "      <td>db_cosmos</td>\n",
       "      <td>db_mongoDB</td>\n",
       "      <td>db_sqlserver</td>\n",
       "    </tr>\n",
       "    <tr>\n",
       "      <th>88</th>\n",
       "      <td>db_cassandra</td>\n",
       "      <td>db_mysql</td>\n",
       "      <td>db_mongoDB</td>\n",
       "    </tr>\n",
       "    <tr>\n",
       "      <th>89</th>\n",
       "      <td>db_elastic</td>\n",
       "      <td>db_neo4j</td>\n",
       "      <td>db_mysql</td>\n",
       "    </tr>\n",
       "    <tr>\n",
       "      <th>90</th>\n",
       "      <td>db_firebasert</td>\n",
       "      <td>db_oracle</td>\n",
       "      <td>db_neo4j</td>\n",
       "    </tr>\n",
       "    <tr>\n",
       "      <th>91</th>\n",
       "      <td>db_firestore</td>\n",
       "      <td>db_pgsql</td>\n",
       "      <td>db_oracle</td>\n",
       "    </tr>\n",
       "    <tr>\n",
       "      <th>92</th>\n",
       "      <td>db_DB2</td>\n",
       "      <td>db_redis</td>\n",
       "      <td>db_pgsql</td>\n",
       "    </tr>\n",
       "    <tr>\n",
       "      <th>93</th>\n",
       "      <td>db_sqlserver</td>\n",
       "      <td>db_sap</td>\n",
       "      <td>db_redis</td>\n",
       "    </tr>\n",
       "    <tr>\n",
       "      <th>94</th>\n",
       "      <td>db_mongoDB</td>\n",
       "      <td>dsc_alteryx</td>\n",
       "      <td>db_sap</td>\n",
       "    </tr>\n",
       "    <tr>\n",
       "      <th>95</th>\n",
       "      <td>db_mysql</td>\n",
       "      <td>dsc_azureml</td>\n",
       "      <td>dsc_alteryx</td>\n",
       "    </tr>\n",
       "    <tr>\n",
       "      <th>96</th>\n",
       "      <td>db_neo4j</td>\n",
       "      <td>dsc_dataiku</td>\n",
       "      <td>dsc_azureml</td>\n",
       "    </tr>\n",
       "    <tr>\n",
       "      <th>97</th>\n",
       "      <td>db_oracle</td>\n",
       "      <td>dsc_domino</td>\n",
       "      <td>dsc_dataiku</td>\n",
       "    </tr>\n",
       "    <tr>\n",
       "      <th>98</th>\n",
       "      <td>db_pgsql</td>\n",
       "      <td>dsc_h2o</td>\n",
       "      <td>dsc_domino</td>\n",
       "    </tr>\n",
       "    <tr>\n",
       "      <th>99</th>\n",
       "      <td>db_redis</td>\n",
       "      <td>dsc_watson</td>\n",
       "      <td>dsc_h2o</td>\n",
       "    </tr>\n",
       "    <tr>\n",
       "      <th>100</th>\n",
       "      <td>db_sap</td>\n",
       "      <td>dsc_knime</td>\n",
       "      <td>dsc_watson</td>\n",
       "    </tr>\n",
       "    <tr>\n",
       "      <th>101</th>\n",
       "      <td>db_snowflake</td>\n",
       "      <td>dsc_rapidminer</td>\n",
       "      <td>dsc_knime</td>\n",
       "    </tr>\n",
       "    <tr>\n",
       "      <th>102</th>\n",
       "      <td>dsc_alteryx</td>\n",
       "      <td>dsc_sas</td>\n",
       "      <td>dsc_rapidminer</td>\n",
       "    </tr>\n",
       "    <tr>\n",
       "      <th>103</th>\n",
       "      <td>dsc_sagemaker</td>\n",
       "      <td>dsc_tf</td>\n",
       "      <td>dsc_sas</td>\n",
       "    </tr>\n",
       "    <tr>\n",
       "      <th>104</th>\n",
       "      <td>dsc_azureml</td>\n",
       "      <td>infra_ansible</td>\n",
       "      <td>dsc_tf</td>\n",
       "    </tr>\n",
       "    <tr>\n",
       "      <th>105</th>\n",
       "      <td>dsc_dataiku</td>\n",
       "      <td>infra_chef</td>\n",
       "      <td>infra_ansible</td>\n",
       "    </tr>\n",
       "    <tr>\n",
       "      <th>106</th>\n",
       "      <td>dsc_datarobot</td>\n",
       "      <td>infra_docker</td>\n",
       "      <td>infra_chef</td>\n",
       "    </tr>\n",
       "    <tr>\n",
       "      <th>107</th>\n",
       "      <td>dsc_domino</td>\n",
       "      <td>infra_k8s</td>\n",
       "      <td>infra_docker</td>\n",
       "    </tr>\n",
       "    <tr>\n",
       "      <th>108</th>\n",
       "      <td>dsc_h2o</td>\n",
       "      <td>infra_oshift</td>\n",
       "      <td>infra_k8s</td>\n",
       "    </tr>\n",
       "    <tr>\n",
       "      <th>109</th>\n",
       "      <td>dsc_spss</td>\n",
       "      <td>infra_ostack</td>\n",
       "      <td>infra_oshift</td>\n",
       "    </tr>\n",
       "    <tr>\n",
       "      <th>110</th>\n",
       "      <td>dsc_watson</td>\n",
       "      <td>infra_puppet</td>\n",
       "      <td>infra_ostack</td>\n",
       "    </tr>\n",
       "    <tr>\n",
       "      <th>111</th>\n",
       "      <td>dsc_julia</td>\n",
       "      <td>infra_terraform</td>\n",
       "      <td>infra_puppet</td>\n",
       "    </tr>\n",
       "    <tr>\n",
       "      <th>112</th>\n",
       "      <td>dsc_keras</td>\n",
       "      <td>infra_vmware</td>\n",
       "      <td>infra_terraform</td>\n",
       "    </tr>\n",
       "    <tr>\n",
       "      <th>113</th>\n",
       "      <td>dsc_knime</td>\n",
       "      <td>cert_agile</td>\n",
       "      <td>infra_vmware</td>\n",
       "    </tr>\n",
       "    <tr>\n",
       "      <th>114</th>\n",
       "      <td>dsc_matlab</td>\n",
       "      <td>cert_android</td>\n",
       "      <td>cert_agile</td>\n",
       "    </tr>\n",
       "    <tr>\n",
       "      <th>115</th>\n",
       "      <td>dsc_pytorch</td>\n",
       "      <td>cert_awsdev</td>\n",
       "      <td>cert_android</td>\n",
       "    </tr>\n",
       "    <tr>\n",
       "      <th>116</th>\n",
       "      <td>dsc_rlang</td>\n",
       "      <td>cert_awsarch</td>\n",
       "      <td>cert_awsdev</td>\n",
       "    </tr>\n",
       "    <tr>\n",
       "      <th>117</th>\n",
       "      <td>dsc_rapidminer</td>\n",
       "      <td>cert_ba</td>\n",
       "      <td>cert_awsarch</td>\n",
       "    </tr>\n",
       "    <tr>\n",
       "      <th>118</th>\n",
       "      <td>dsc_sas</td>\n",
       "      <td>cert_cisco</td>\n",
       "      <td>cert_ba</td>\n",
       "    </tr>\n",
       "    <tr>\n",
       "      <th>119</th>\n",
       "      <td>dsc_scikit</td>\n",
       "      <td>cert_cobit</td>\n",
       "      <td>cert_cisco</td>\n",
       "    </tr>\n",
       "    <tr>\n",
       "      <th>120</th>\n",
       "      <td>dsc_tf</td>\n",
       "      <td>cert_entarch</td>\n",
       "      <td>cert_cobit</td>\n",
       "    </tr>\n",
       "    <tr>\n",
       "      <th>121</th>\n",
       "      <td>dataeng_athena</td>\n",
       "      <td>cert_cgeit</td>\n",
       "      <td>cert_entarch</td>\n",
       "    </tr>\n",
       "    <tr>\n",
       "      <th>122</th>\n",
       "      <td>dataeng_airflow</td>\n",
       "      <td>cert_gcloudarch</td>\n",
       "      <td>cert_cgeit</td>\n",
       "    </tr>\n",
       "    <tr>\n",
       "      <th>123</th>\n",
       "      <td>dataeng_beam</td>\n",
       "      <td>cert_gdata</td>\n",
       "      <td>cert_gcloudarch</td>\n",
       "    </tr>\n",
       "    <tr>\n",
       "      <th>124</th>\n",
       "      <td>dataeng_spark</td>\n",
       "      <td>cert_gweb</td>\n",
       "      <td>cert_gdata</td>\n",
       "    </tr>\n",
       "    <tr>\n",
       "      <th>125</th>\n",
       "      <td>dataeng_databand</td>\n",
       "      <td>cert_itilint</td>\n",
       "      <td>cert_gweb</td>\n",
       "    </tr>\n",
       "    <tr>\n",
       "      <th>126</th>\n",
       "      <td>dataeng_dbt</td>\n",
       "      <td>cert_itilpra</td>\n",
       "      <td>cert_itilint</td>\n",
       "    </tr>\n",
       "    <tr>\n",
       "      <th>127</th>\n",
       "      <td>dataeng_fivetran</td>\n",
       "      <td>cert_java</td>\n",
       "      <td>cert_itilpra</td>\n",
       "    </tr>\n",
       "    <tr>\n",
       "      <th>128</th>\n",
       "      <td>dataeng_greatexp</td>\n",
       "      <td>cert_linux</td>\n",
       "      <td>cert_java</td>\n",
       "    </tr>\n",
       "    <tr>\n",
       "      <th>129</th>\n",
       "      <td>dataeng_hadoop</td>\n",
       "      <td>cert_msass</td>\n",
       "      <td>cert_linux</td>\n",
       "    </tr>\n",
       "    <tr>\n",
       "      <th>130</th>\n",
       "      <td>dataeng_keboola</td>\n",
       "      <td>cert_msexp</td>\n",
       "      <td>cert_msass</td>\n",
       "    </tr>\n",
       "    <tr>\n",
       "      <th>131</th>\n",
       "      <td>infra_ansible</td>\n",
       "      <td>cert_oracle</td>\n",
       "      <td>cert_msexp</td>\n",
       "    </tr>\n",
       "    <tr>\n",
       "      <th>132</th>\n",
       "      <td>infra_chef</td>\n",
       "      <td>cert_pmp</td>\n",
       "      <td>cert_oracle</td>\n",
       "    </tr>\n",
       "    <tr>\n",
       "      <th>133</th>\n",
       "      <td>infra_consul</td>\n",
       "      <td>cert_sap</td>\n",
       "      <td>cert_pmp</td>\n",
       "    </tr>\n",
       "    <tr>\n",
       "      <th>134</th>\n",
       "      <td>infra_datadog</td>\n",
       "      <td>cert_scrum</td>\n",
       "      <td>cert_sap</td>\n",
       "    </tr>\n",
       "    <tr>\n",
       "      <th>135</th>\n",
       "      <td>infra_docker</td>\n",
       "      <td>cert_infosec</td>\n",
       "      <td>cert_scrum</td>\n",
       "    </tr>\n",
       "    <tr>\n",
       "      <th>136</th>\n",
       "      <td>infra_dynatrace</td>\n",
       "      <td>cert_sixsigma</td>\n",
       "      <td>cert_infosec</td>\n",
       "    </tr>\n",
       "    <tr>\n",
       "      <th>137</th>\n",
       "      <td>infra_istio</td>\n",
       "      <td>cert_testing2</td>\n",
       "      <td>cert_sixsigma</td>\n",
       "    </tr>\n",
       "    <tr>\n",
       "      <th>138</th>\n",
       "      <td>infra_jenkins</td>\n",
       "      <td>cert_testing1</td>\n",
       "      <td>cert_testing2</td>\n",
       "    </tr>\n",
       "    <tr>\n",
       "      <th>139</th>\n",
       "      <td>infra_k8s</td>\n",
       "      <td>ben_equity</td>\n",
       "      <td>cert_testing1</td>\n",
       "    </tr>\n",
       "    <tr>\n",
       "      <th>140</th>\n",
       "      <td>infra_newrelic</td>\n",
       "      <td>ben_car</td>\n",
       "      <td>ben_equity</td>\n",
       "    </tr>\n",
       "    <tr>\n",
       "      <th>141</th>\n",
       "      <td>infra_oshift</td>\n",
       "      <td>ben_family</td>\n",
       "      <td>ben_car</td>\n",
       "    </tr>\n",
       "    <tr>\n",
       "      <th>142</th>\n",
       "      <td>infra_ostack</td>\n",
       "      <td>ben_edu</td>\n",
       "      <td>ben_family</td>\n",
       "    </tr>\n",
       "    <tr>\n",
       "      <th>143</th>\n",
       "      <td>infra_puppet</td>\n",
       "      <td>ben_bonus</td>\n",
       "      <td>ben_edu</td>\n",
       "    </tr>\n",
       "    <tr>\n",
       "      <th>144</th>\n",
       "      <td>infra_spinnaker</td>\n",
       "      <td>ben_housing</td>\n",
       "      <td>ben_bonus</td>\n",
       "    </tr>\n",
       "    <tr>\n",
       "      <th>145</th>\n",
       "      <td>infra_terraform</td>\n",
       "      <td>ben_parking</td>\n",
       "      <td>ben_housing</td>\n",
       "    </tr>\n",
       "    <tr>\n",
       "      <th>146</th>\n",
       "      <td>infra_vmware</td>\n",
       "      <td>ben_gas</td>\n",
       "      <td>ben_parking</td>\n",
       "    </tr>\n",
       "    <tr>\n",
       "      <th>147</th>\n",
       "      <td>cert_agile</td>\n",
       "      <td>ben_gym</td>\n",
       "      <td>ben_gas</td>\n",
       "    </tr>\n",
       "    <tr>\n",
       "      <th>148</th>\n",
       "      <td>cert_android</td>\n",
       "      <td>ben_flexhours</td>\n",
       "      <td>ben_gym</td>\n",
       "    </tr>\n",
       "    <tr>\n",
       "      <th>149</th>\n",
       "      <td>cert_awsdev</td>\n",
       "      <td>ben_homeoffice</td>\n",
       "      <td>ben_flexhours</td>\n",
       "    </tr>\n",
       "    <tr>\n",
       "      <th>150</th>\n",
       "      <td>cert_awsarch</td>\n",
       "      <td>ben_loan</td>\n",
       "      <td>ben_homeoffice</td>\n",
       "    </tr>\n",
       "    <tr>\n",
       "      <th>151</th>\n",
       "      <td>cert_ba</td>\n",
       "      <td>ben_healthmajor</td>\n",
       "      <td>ben_loan</td>\n",
       "    </tr>\n",
       "    <tr>\n",
       "      <th>152</th>\n",
       "      <td>cert_cisco</td>\n",
       "      <td>ben_healthminor</td>\n",
       "      <td>ben_healthmajor</td>\n",
       "    </tr>\n",
       "    <tr>\n",
       "      <th>153</th>\n",
       "      <td>cert_cobit</td>\n",
       "      <td>ben_lifeins</td>\n",
       "      <td>ben_healthminor</td>\n",
       "    </tr>\n",
       "    <tr>\n",
       "      <th>154</th>\n",
       "      <td>cert_entarch</td>\n",
       "      <td>ben_cafeteria</td>\n",
       "      <td>ben_lifeins</td>\n",
       "    </tr>\n",
       "    <tr>\n",
       "      <th>155</th>\n",
       "      <td>cert_cgeit</td>\n",
       "      <td>ben_cellphone</td>\n",
       "      <td>ben_cafeteria</td>\n",
       "    </tr>\n",
       "    <tr>\n",
       "      <th>156</th>\n",
       "      <td>cert_gcloudarch</td>\n",
       "      <td>ben_vouchers</td>\n",
       "      <td>ben_cellphone</td>\n",
       "    </tr>\n",
       "    <tr>\n",
       "      <th>157</th>\n",
       "      <td>cert_gdata</td>\n",
       "      <td>covid_remoto</td>\n",
       "      <td>ben_vouchers</td>\n",
       "    </tr>\n",
       "    <tr>\n",
       "      <th>158</th>\n",
       "      <td>cert_gweb</td>\n",
       "      <td>covid_salario</td>\n",
       "      <td>NaN</td>\n",
       "    </tr>\n",
       "    <tr>\n",
       "      <th>159</th>\n",
       "      <td>cert_itilint</td>\n",
       "      <td>covid_carga</td>\n",
       "      <td>NaN</td>\n",
       "    </tr>\n",
       "    <tr>\n",
       "      <th>160</th>\n",
       "      <td>cert_itilpra</td>\n",
       "      <td>covid_apoyo</td>\n",
       "      <td>NaN</td>\n",
       "    </tr>\n",
       "    <tr>\n",
       "      <th>161</th>\n",
       "      <td>cert_java</td>\n",
       "      <td>NaN</td>\n",
       "      <td>NaN</td>\n",
       "    </tr>\n",
       "    <tr>\n",
       "      <th>162</th>\n",
       "      <td>cert_linux</td>\n",
       "      <td>NaN</td>\n",
       "      <td>NaN</td>\n",
       "    </tr>\n",
       "    <tr>\n",
       "      <th>163</th>\n",
       "      <td>cert_msass</td>\n",
       "      <td>NaN</td>\n",
       "      <td>NaN</td>\n",
       "    </tr>\n",
       "    <tr>\n",
       "      <th>164</th>\n",
       "      <td>cert_msexp</td>\n",
       "      <td>NaN</td>\n",
       "      <td>NaN</td>\n",
       "    </tr>\n",
       "    <tr>\n",
       "      <th>165</th>\n",
       "      <td>cert_oracle</td>\n",
       "      <td>NaN</td>\n",
       "      <td>NaN</td>\n",
       "    </tr>\n",
       "    <tr>\n",
       "      <th>166</th>\n",
       "      <td>cert_pmp</td>\n",
       "      <td>NaN</td>\n",
       "      <td>NaN</td>\n",
       "    </tr>\n",
       "    <tr>\n",
       "      <th>167</th>\n",
       "      <td>cert_sap</td>\n",
       "      <td>NaN</td>\n",
       "      <td>NaN</td>\n",
       "    </tr>\n",
       "    <tr>\n",
       "      <th>168</th>\n",
       "      <td>cert_scrum</td>\n",
       "      <td>NaN</td>\n",
       "      <td>NaN</td>\n",
       "    </tr>\n",
       "    <tr>\n",
       "      <th>169</th>\n",
       "      <td>cert_infosec</td>\n",
       "      <td>NaN</td>\n",
       "      <td>NaN</td>\n",
       "    </tr>\n",
       "    <tr>\n",
       "      <th>170</th>\n",
       "      <td>cert_sixsigma</td>\n",
       "      <td>NaN</td>\n",
       "      <td>NaN</td>\n",
       "    </tr>\n",
       "    <tr>\n",
       "      <th>171</th>\n",
       "      <td>cert_testing2</td>\n",
       "      <td>NaN</td>\n",
       "      <td>NaN</td>\n",
       "    </tr>\n",
       "    <tr>\n",
       "      <th>172</th>\n",
       "      <td>cert_testing1</td>\n",
       "      <td>NaN</td>\n",
       "      <td>NaN</td>\n",
       "    </tr>\n",
       "    <tr>\n",
       "      <th>173</th>\n",
       "      <td>ben_equity</td>\n",
       "      <td>NaN</td>\n",
       "      <td>NaN</td>\n",
       "    </tr>\n",
       "    <tr>\n",
       "      <th>174</th>\n",
       "      <td>ben_car</td>\n",
       "      <td>NaN</td>\n",
       "      <td>NaN</td>\n",
       "    </tr>\n",
       "    <tr>\n",
       "      <th>175</th>\n",
       "      <td>ben_family</td>\n",
       "      <td>NaN</td>\n",
       "      <td>NaN</td>\n",
       "    </tr>\n",
       "    <tr>\n",
       "      <th>176</th>\n",
       "      <td>ben_edu</td>\n",
       "      <td>NaN</td>\n",
       "      <td>NaN</td>\n",
       "    </tr>\n",
       "    <tr>\n",
       "      <th>177</th>\n",
       "      <td>ben_bonus</td>\n",
       "      <td>NaN</td>\n",
       "      <td>NaN</td>\n",
       "    </tr>\n",
       "    <tr>\n",
       "      <th>178</th>\n",
       "      <td>ben_housing</td>\n",
       "      <td>NaN</td>\n",
       "      <td>NaN</td>\n",
       "    </tr>\n",
       "    <tr>\n",
       "      <th>179</th>\n",
       "      <td>ben_parking</td>\n",
       "      <td>NaN</td>\n",
       "      <td>NaN</td>\n",
       "    </tr>\n",
       "    <tr>\n",
       "      <th>180</th>\n",
       "      <td>ben_gas</td>\n",
       "      <td>NaN</td>\n",
       "      <td>NaN</td>\n",
       "    </tr>\n",
       "    <tr>\n",
       "      <th>181</th>\n",
       "      <td>ben_gym</td>\n",
       "      <td>NaN</td>\n",
       "      <td>NaN</td>\n",
       "    </tr>\n",
       "    <tr>\n",
       "      <th>182</th>\n",
       "      <td>ben_flexhours</td>\n",
       "      <td>NaN</td>\n",
       "      <td>NaN</td>\n",
       "    </tr>\n",
       "    <tr>\n",
       "      <th>183</th>\n",
       "      <td>ben_homeoffice</td>\n",
       "      <td>NaN</td>\n",
       "      <td>NaN</td>\n",
       "    </tr>\n",
       "    <tr>\n",
       "      <th>184</th>\n",
       "      <td>ben_loan</td>\n",
       "      <td>NaN</td>\n",
       "      <td>NaN</td>\n",
       "    </tr>\n",
       "    <tr>\n",
       "      <th>185</th>\n",
       "      <td>ben_healthmajor</td>\n",
       "      <td>NaN</td>\n",
       "      <td>NaN</td>\n",
       "    </tr>\n",
       "    <tr>\n",
       "      <th>186</th>\n",
       "      <td>ben_healthminor</td>\n",
       "      <td>NaN</td>\n",
       "      <td>NaN</td>\n",
       "    </tr>\n",
       "    <tr>\n",
       "      <th>187</th>\n",
       "      <td>ben_lifeins</td>\n",
       "      <td>NaN</td>\n",
       "      <td>NaN</td>\n",
       "    </tr>\n",
       "    <tr>\n",
       "      <th>188</th>\n",
       "      <td>ben_cafeteria</td>\n",
       "      <td>NaN</td>\n",
       "      <td>NaN</td>\n",
       "    </tr>\n",
       "    <tr>\n",
       "      <th>189</th>\n",
       "      <td>ben_cellphone</td>\n",
       "      <td>NaN</td>\n",
       "      <td>NaN</td>\n",
       "    </tr>\n",
       "    <tr>\n",
       "      <th>190</th>\n",
       "      <td>ben_vouchers</td>\n",
       "      <td>NaN</td>\n",
       "      <td>NaN</td>\n",
       "    </tr>\n",
       "    <tr>\n",
       "      <th>191</th>\n",
       "      <td>covid_remoto</td>\n",
       "      <td>NaN</td>\n",
       "      <td>NaN</td>\n",
       "    </tr>\n",
       "    <tr>\n",
       "      <th>192</th>\n",
       "      <td>covid_salario</td>\n",
       "      <td>NaN</td>\n",
       "      <td>NaN</td>\n",
       "    </tr>\n",
       "    <tr>\n",
       "      <th>193</th>\n",
       "      <td>covid_carga</td>\n",
       "      <td>NaN</td>\n",
       "      <td>NaN</td>\n",
       "    </tr>\n",
       "    <tr>\n",
       "      <th>194</th>\n",
       "      <td>covid_apoyo</td>\n",
       "      <td>NaN</td>\n",
       "      <td>NaN</td>\n",
       "    </tr>\n",
       "    <tr>\n",
       "      <th>195</th>\n",
       "      <td>vacaciones</td>\n",
       "      <td>NaN</td>\n",
       "      <td>NaN</td>\n",
       "    </tr>\n",
       "    <tr>\n",
       "      <th>196</th>\n",
       "      <td>aguinaldo</td>\n",
       "      <td>NaN</td>\n",
       "      <td>NaN</td>\n",
       "    </tr>\n",
       "  </tbody>\n",
       "</table>"
      ],
      "text/plain": [
       "<IPython.core.display.HTML object>"
      ]
     },
     "metadata": {},
     "output_type": "display_data"
    }
   ],
   "source": [
    "df_cols_22 = pd.DataFrame()\n",
    "df_cols_21 = pd.DataFrame()\n",
    "df_cols_20 = pd.DataFrame()\n",
    "df_cols_22['columns_2022'] = df_22.columns\n",
    "df_cols_21['columns_2021'] = df_21.columns\n",
    "df_cols_20['columns_2020'] = df_20.columns\n",
    "df_cols = pd.concat([df_cols_22, df_cols_21, df_cols_20], axis=1)\n",
    "display(HTML(df_cols.to_html()))\n"
   ]
  },
  {
   "cell_type": "markdown",
   "metadata": {},
   "source": [
    "Vamos ahora a buscar los campos comunes entre los 3 datasets:"
   ]
  },
  {
   "cell_type": "code",
   "execution_count": 20,
   "metadata": {},
   "outputs": [
    {
     "name": "stdout",
     "output_type": "stream",
     "text": [
      "{'act_erp', 'cert_sap', 'lang_delphi', 'db_cassandra', 'cert_awsarch', 'infra_chef', 'orgtype', 'education', 'ben_lifeins', 'act_cons', 'lang_php', 'dsc_domino', 'cert_cisco', 'age', 'cert_cgeit', 'lang_clang', 'lang_csharp', 'cert_linux', 'act_arq', 'db_oracle', 'cert_testing2', 'infra_oshift', 'remote', 'ben_vouchers', 'emptype', 'db_mongoDB', 'lang_elixir', 'salaryusd', 'front_vue', 'infra_ostack', 'cert_infosec', 'cert_java', 'cert_agile', 'dsc_watson', 'act_req', 'lang_kotlin', 'ben_healthminor', 'act_bi', 'dsc_h2o', 'db_firestore', 'dsc_tf', 'ben_car', 'cert_gdata', 'ben_healthmajor', 'cert_android', 'ben_cafeteria', 'ben_flexhours', 'lang_ruby', 'ben_bonus', 'db_sap', 'cert_gweb', 'ben_cellphone', 'act_spi', 'dsc_alteryx', 'lang_groovy', 'lang_plsql', 'ben_housing', 'cert_pmp', 'db_neo4j', 'edutype', 'infra_terraform', 'lang_scala', 'dsc_rapidminer', 'dsc_azureml', 'cert_testing1', 'lang_cobol', 'english_num', 'lang_swift', 'ben_gas', 'front_xamarin', 'lang_vbnet', 'created', 'lang_perl', 'lang_python', 'infra_k8s', 'front_angular', 'db_sqlserver', 'lang_bash', 'experience', 'cert_gcloudarch', 'db_dynamo', 'db_firebasert', 'act_soporte', 'cert_itilint', 'cert_scrum', 'english_label', 'db_elastic', 'lang_rust', 'variation', 'cert_awsdev', 'cert_itilpra', 'db_pgsql', 'dsc_knime', 'seniority', 'cert_entarch', 'ben_homeoffice', 'cert_ba', 'act_techsales', 'dsc_dataiku', 'act_dba', 'act_cap', 'country', 'infra_docker', 'act_doc', 'cert_msexp', 'db_DB2', 'cert_oracle', 'act_ventas', 'act_front', 'profile', 'lang_java', 'infra_puppet', 'city', 'act_prog', 'act_techwrite', 'ben_parking', 'infra_ansible', 'infra_vmware', 'act_pm', 'lang_js', 'ben_gym', 'db_cosmos', 'ben_edu', 'act_test', 'db_mysql', 'salarymx', 'extramx', 'lang_go', 'extrausd', 'cert_msass', 'act_dir', 'ben_equity', 'cert_cobit', 'db_redis', 'dsc_sas', 'ben_loan', 'cert_sixsigma', 'ben_family', 'front_react', 'act_infosec', 'act_uxd', 'gender'}\n"
     ]
    }
   ],
   "source": [
    "common_cols = set(sorted(set(df_cols_22['columns_2022']) & set(df_cols_21['columns_2021']) & set(df_cols_20['columns_2020'])))\n",
    "print(common_cols)"
   ]
  },
  {
   "cell_type": "markdown",
   "metadata": {},
   "source": [
    "Vamos ahora a eliminar las columnas que son colineales, como el `salarymx` y `salaryusd`, junto con `extramx` y `extrausd` , y columnas sin varianza, como `country`, dado que cerramos a México desde un inicio. También eliminaremos `variation` porque es un campo derivado. Finalmente, quitamos la columna `city` porque consideramos que durante la pandemia, la ciudad de residencia es irrelevante."
   ]
  },
  {
   "cell_type": "code",
   "execution_count": 21,
   "metadata": {},
   "outputs": [
    {
     "name": "stdout",
     "output_type": "stream",
     "text": [
      "{'act_erp', 'cert_sap', 'lang_delphi', 'db_cassandra', 'cert_awsarch', 'infra_chef', 'orgtype', 'education', 'ben_lifeins', 'act_cons', 'lang_php', 'dsc_domino', 'cert_cisco', 'age', 'cert_cgeit', 'lang_clang', 'lang_csharp', 'cert_linux', 'act_arq', 'db_oracle', 'cert_testing2', 'infra_oshift', 'remote', 'ben_vouchers', 'emptype', 'db_mongoDB', 'lang_elixir', 'front_vue', 'infra_ostack', 'cert_infosec', 'cert_java', 'cert_agile', 'dsc_watson', 'act_req', 'lang_kotlin', 'ben_healthminor', 'act_bi', 'dsc_h2o', 'db_firestore', 'dsc_tf', 'ben_car', 'cert_gdata', 'ben_healthmajor', 'cert_android', 'ben_cafeteria', 'ben_flexhours', 'lang_ruby', 'ben_bonus', 'db_sap', 'cert_gweb', 'ben_cellphone', 'act_spi', 'dsc_alteryx', 'lang_groovy', 'lang_plsql', 'ben_housing', 'cert_pmp', 'db_neo4j', 'edutype', 'infra_terraform', 'lang_scala', 'dsc_rapidminer', 'dsc_azureml', 'cert_testing1', 'lang_cobol', 'english_num', 'lang_swift', 'ben_gas', 'front_xamarin', 'lang_vbnet', 'lang_perl', 'lang_python', 'infra_k8s', 'front_angular', 'db_sqlserver', 'lang_bash', 'experience', 'cert_gcloudarch', 'db_dynamo', 'db_firebasert', 'act_soporte', 'cert_itilint', 'cert_scrum', 'db_elastic', 'lang_rust', 'cert_awsdev', 'cert_itilpra', 'db_pgsql', 'dsc_knime', 'seniority', 'cert_entarch', 'ben_homeoffice', 'cert_ba', 'act_techsales', 'dsc_dataiku', 'act_dba', 'act_cap', 'infra_docker', 'act_doc', 'cert_msexp', 'db_DB2', 'cert_oracle', 'act_ventas', 'act_front', 'profile', 'lang_java', 'infra_puppet', 'act_prog', 'act_techwrite', 'ben_parking', 'infra_ansible', 'infra_vmware', 'act_pm', 'lang_js', 'ben_gym', 'db_cosmos', 'ben_edu', 'act_test', 'db_mysql', 'salarymx', 'lang_go', 'cert_msass', 'act_dir', 'ben_equity', 'cert_cobit', 'db_redis', 'dsc_sas', 'ben_loan', 'cert_sixsigma', 'ben_family', 'front_react', 'act_infosec', 'act_uxd', 'gender'}\n"
     ]
    }
   ],
   "source": [
    "common_cols.difference_update(['salaryusd','extramx','extrausd','country','variation','created','english_label','city'])\n",
    "print(common_cols)  "
   ]
  },
  {
   "cell_type": "markdown",
   "metadata": {},
   "source": [
    "Y ahora vamos a subsetear los 3 dataframes con este conjunto de columnas comunes:"
   ]
  },
  {
   "cell_type": "code",
   "execution_count": 22,
   "metadata": {},
   "outputs": [],
   "source": [
    "list_common_cols = list(common_cols)\n",
    "df_22_clean = df_22[list_common_cols]\n",
    "df_21_clean = df_21[list_common_cols]\n",
    "df_20_clean = df_20[list_common_cols]"
   ]
  },
  {
   "cell_type": "markdown",
   "metadata": {},
   "source": [
    "Vamos ahora a ver histogramas de la columna objetivo `salarymx` para poder dividir en cuantiles en lugar de tener una columna contínua"
   ]
  },
  {
   "cell_type": "code",
   "execution_count": 23,
   "metadata": {},
   "outputs": [
    {
     "data": {
      "text/plain": [
       "(array([870., 908., 385., 146.,  38.,  24.,  12.,   7.,   1.,   4.]),\n",
       " array([  3000.,  27700.,  52400.,  77100., 101800., 126500., 151200.,\n",
       "        175900., 200600., 225300., 250000.]),\n",
       " <BarContainer object of 10 artists>)"
      ]
     },
     "execution_count": 23,
     "metadata": {},
     "output_type": "execute_result"
    },
    {
     "data": {
      "image/png": "[encoded data removed]",
      "text/plain": [
       "<Figure size 2000x500 with 3 Axes>"
      ]
     },
     "metadata": {},
     "output_type": "display_data"
    }
   ],
   "source": [
    "\n",
    "fig = plt.figure()\n",
    "fig.set_size_inches(20,5)\n",
    "gs = fig.add_gridspec(1, 3, hspace=0)\n",
    "axs = gs.subplots(sharex=True, sharey=True)\n",
    "fig.suptitle('salarymx 2022, 2021, 2020')\n",
    "axs[0].hist(df_22_clean['salarymx'])\n",
    "axs[1].hist(df_21_clean['salarymx'])\n",
    "axs[2].hist(df_20_clean['salarymx'])\n"
   ]
  },
  {
   "cell_type": "markdown",
   "metadata": {},
   "source": [
    "Dividiremos por cuantiles de $10,000 MXN:"
   ]
  },
  {
   "cell_type": "code",
   "execution_count": 24,
   "metadata": {},
   "outputs": [],
   "source": [
    "bins = [0] + list(range(10000,500000,10000))\n",
    "df_22_clean['salarymx_range'] = pd.cut(df_22_clean['salarymx'], bins=bins)\n",
    "df_21_clean['salarymx_range'] = pd.cut(df_21_clean['salarymx'], bins=bins)\n",
    "df_20_clean['salarymx_range'] = pd.cut(df_20_clean['salarymx'], bins=bins)"
   ]
  },
  {
   "cell_type": "markdown",
   "metadata": {},
   "source": [
    "Finalmente vamos a limpiar algunas columnas que deben ser booleanas y eliminar `salarymx` ya que la discretizamos. Igual vamos a convertir a numéricas todas las columnas de respuesta **Sí/No** para que puedan ser admitidas en nuestros modelos."
   ]
  },
  {
   "cell_type": "code",
   "execution_count": 25,
   "metadata": {},
   "outputs": [],
   "source": [
    "df_22_final = df_22_clean.drop(['salarymx'], axis=1)\n",
    "df_21_final = df_21_clean.drop(['salarymx'], axis=1)\n",
    "df_20_final = df_20_clean.drop(['salarymx'], axis=1)\n",
    "\n",
    "bool_cols = ['act_arq', 'act_bi', 'act_cap', 'act_cons', 'act_dba', 'act_dir', 'act_doc', 'act_erp', 'act_front', 'act_infosec', 'act_pm', 'act_prog', 'act_req', 'act_soporte', 'act_spi', 'act_techsales', 'act_techwrite', 'act_test', 'act_uxd', 'act_ventas', 'ben_bonus', 'ben_cafeteria', 'ben_car', 'ben_cellphone', 'ben_edu', 'ben_equity', 'ben_family', 'ben_flexhours', 'ben_gas', 'ben_gym', 'ben_healthmajor', 'ben_healthminor', 'ben_homeoffice', 'ben_housing', 'ben_lifeins', 'ben_loan', 'ben_parking', 'ben_vouchers', 'cert_agile', 'cert_android', 'cert_awsarch', 'cert_awsdev', 'cert_ba', 'cert_cgeit', 'cert_cisco', 'cert_cobit', 'cert_entarch', 'cert_gcloudarch', 'cert_gdata', 'cert_gweb', 'cert_infosec', 'cert_itilint', 'cert_itilpra', 'cert_java', 'cert_linux', 'cert_msass', 'cert_msexp', 'cert_oracle', 'cert_pmp', 'cert_sap', 'cert_scrum', 'cert_sixsigma', 'cert_testing1', 'cert_testing2', 'db_DB2', 'db_cassandra', 'db_cosmos', 'db_dynamo', 'db_elastic', 'db_firebasert', 'db_firestore', 'db_mongoDB', 'db_mysql', 'db_neo4j', 'db_oracle', 'db_pgsql', 'db_redis', 'db_sap', 'db_sqlserver', 'dsc_alteryx', 'dsc_azureml', 'dsc_dataiku', 'dsc_domino', 'dsc_h2o', 'dsc_knime', 'dsc_rapidminer', 'dsc_sas', 'dsc_tf', 'dsc_watson', 'front_angular', 'front_react', 'front_vue', 'front_xamarin', 'infra_ansible', 'infra_chef', 'infra_docker', 'infra_k8s', 'infra_oshift', 'infra_ostack', 'infra_puppet', 'infra_terraform', 'infra_vmware', 'lang_bash', 'lang_clang', 'lang_cobol', 'lang_csharp', 'lang_delphi', 'lang_elixir', 'lang_go', 'lang_groovy', 'lang_java', 'lang_js', 'lang_kotlin', 'lang_perl', 'lang_php', 'lang_plsql', 'lang_python', 'lang_ruby', 'lang_rust', 'lang_scala', 'lang_swift', 'lang_vbnet', 'remote']\n",
    "cat_cols = ['education','edutype','emptype','english_num', 'gender','orgtype','profile','remote','salarymx_range']\n",
    "num_cols = ['experience','seniority']\n",
    "\n",
    "d = {'Y': 1, 'N': 0, 'NaN': 0}\n",
    "\n",
    "for column in bool_cols:\n",
    "    df_22_final[column] = df_22_final[column].map(d)\n",
    "    df_22_final[column] = df_22_final[column].astype('Int64')\n",
    "    df_22_final[column] = df_22_final[column].fillna(0)\n",
    "    df_21_final[column] = df_21_final[column].map(d)\n",
    "    df_21_final[column] = df_21_final[column].astype('Int64')\n",
    "    df_21_final[column] = df_21_final[column].fillna(0)\n",
    "    df_20_final[column] = df_20_final[column].map(d)\n",
    "    df_20_final[column] = df_20_final[column].astype('Int64')\n",
    "    df_20_final[column] = df_20_final[column].fillna(0)\n",
    "\n",
    "for column in cat_cols:\n",
    "    df_22_final[column] = df_22_final[column].astype('category')\n",
    "    df_21_final[column] = df_21_final[column].astype('category')\n",
    "    df_20_final[column] = df_20_final[column].astype('category')\n",
    "\n",
    "for column in num_cols:\n",
    "    df_22_final[column] = df_22_final[column].astype('Int64')\n",
    "    df_21_final[column] = df_21_final[column].astype('Int64')\n",
    "    df_20_final[column] = df_20_final[column].astype('Int64')\n",
    "\n",
    "df_dict = {'2022': df_22_final, '2021': df_21_final, '2020': df_20_final}"
   ]
  },
  {
   "cell_type": "markdown",
   "metadata": {},
   "source": [
    "Finalmente, vamos a tratar de crear un modelo supervisado de RF, solo como primera aproximación a validar la hipótesis que la variable más crítica para acceder a sueldos altos es el inglés."
   ]
  },
  {
   "cell_type": "code",
   "execution_count": 26,
   "metadata": {},
   "outputs": [
    {
     "data": {
      "image/png": "[encoded data removed]",
      "text/plain": [
       "<Figure size 1000x500 with 1 Axes>"
      ]
     },
     "metadata": {},
     "output_type": "display_data"
    },
    {
     "data": {
      "image/png": "[encoded data removed]",
      "text/plain": [
       "<Figure size 800x550 with 2 Axes>"
      ]
     },
     "metadata": {},
     "output_type": "display_data"
    }
   ],
   "source": [
    "predictors_raw = df_22_final.drop(['salarymx_range'], axis=1)\n",
    "predictors = pd.get_dummies(predictors_raw)\n",
    "dependant_raw = df_22_final['salarymx_range']\n",
    "label_encoder = preprocessing.LabelEncoder()\n",
    "label_encoder.fit(sorted(dependant_raw))\n",
    "dependant = label_encoder.transform(dependant_raw)\n",
    "\n",
    "predictors_train, predictors_test, dependant_train, dependant_test = train_test_split(predictors, dependant, test_size=.3)\n",
    "\n",
    "rf = RandomForestClassifier(n_estimators=400)\n",
    "rf.fit(predictors_train, dependant_train)\n",
    "dependant_pred = rf.predict(predictors_test)\n",
    "\n",
    "f = plt.figure()\n",
    "f.set_figheight(5)\n",
    "f.set_figwidth(10)\n",
    "d = {'predictors_cols': predictors.columns, 'feature_imp': rf.feature_importances_}\n",
    "df_imp = pd.DataFrame(d)\n",
    "df_imp_sorted = df_imp.sort_values(by=['feature_imp'], ascending=False)\n",
    "df_imp_top_10 = df_imp_sorted.head(10)\n",
    "plt.barh(df_imp_top_10['predictors_cols'], df_imp_top_10['feature_imp'])\n",
    "plt.show()\n",
    "visualizer = classification_report(\n",
    "    rf, predictors_train, dependant_train, predictors_test, dependant_test, classes=label_encoder.classes_, support=True\n",
    ")"
   ]
  },
  {
   "cell_type": "markdown",
   "metadata": {},
   "source": [
    "Ahora si vamos a crear nuestra app de Voilá:"
   ]
  },
  {
   "cell_type": "code",
   "execution_count": 27,
   "metadata": {
    "tags": []
   },
   "outputs": [],
   "source": [
    "## Column 1"
   ]
  },
  {
   "cell_type": "code",
   "execution_count": 28,
   "metadata": {},
   "outputs": [],
   "source": [
    "def get_model(ano, rf_estimators):    \n",
    "    df_final = df_dict[ano]\n",
    "    predictors_raw = df_final.drop(['salarymx_range'], axis=1)\n",
    "    predictors = pd.get_dummies(predictors_raw)\n",
    "    dependant_raw = df_final['salarymx_range'].astype(str)\n",
    "    label_encoder = preprocessing.LabelEncoder()\n",
    "    label_encoder.fit(sorted(dependant_raw))\n",
    "    dependant = label_encoder.transform(dependant_raw)\n",
    "\n",
    "    predictors_train, predictors_test, dependant_train, dependant_test = train_test_split(predictors, dependant, test_size=.3)\n",
    "\n",
    "    rf = RandomForestClassifier(n_estimators=rf_estimators)\n",
    "    rf.fit(predictors_train, dependant_train)\n",
    "    dependant_pred = rf.predict(predictors_test)\n",
    "    return predictors_train, predictors_test, dependant_train, dependant_test, dependant_pred, rf.feature_importances_"
   ]
  },
  {
   "cell_type": "markdown",
   "metadata": {
    "tags": []
   },
   "source": [
    "### Column 1 - Row 1 + 2"
   ]
  },
  {
   "cell_type": "code",
   "execution_count": 29,
   "metadata": {
    "tags": [
     "body"
    ]
   },
   "outputs": [
    {
     "data": {
      "application/vnd.jupyter.widget-view+json": {
       "model_id": "a4fcf705d8094d2cb31d6400e245a6c6",
       "version_major": 2,
       "version_minor": 0
      },
      "text/plain": [
       "HBox(children=(Select(description='Año:', options=('2022', '2021', '2020'), value='2022'), IntSlider(value=100…"
      ]
     },
     "metadata": {},
     "output_type": "display_data"
    }
   ],
   "source": [
    "ano_select = widgets.Select(\n",
    "    options=['2022', '2021', '2020'],\n",
    "    value='2022',\n",
    "    description='Año:',\n",
    "    disabled=False,\n",
    ")\n",
    "\n",
    "rf_est_slider = widgets.IntSlider(value=100, min=100, max=400, step=50)\n",
    "\n",
    "\n",
    "widgets.HBox([ano_select, rf_est_slider])"
   ]
  },
  {
   "cell_type": "code",
   "execution_count": 30,
   "metadata": {
    "tags": [
     "orientation=columns"
    ]
   },
   "outputs": [],
   "source": [
    "## Column 2"
   ]
  },
  {
   "cell_type": "markdown",
   "metadata": {},
   "source": [
    "### Column 2 - Row 1"
   ]
  },
  {
   "cell_type": "code",
   "execution_count": 31,
   "metadata": {},
   "outputs": [],
   "source": [
    "out = widgets.Output()\n",
    "out2 = widgets.Output()"
   ]
  },
  {
   "cell_type": "code",
   "execution_count": 32,
   "metadata": {
    "tags": []
   },
   "outputs": [],
   "source": [
    "def display_classif_report(a):\n",
    "    rf_estimators = rf_est_slider.value\n",
    "    ano = ano_select.value\n",
    "    with out2:\n",
    "        out2.clear_output(wait=True)\n",
    "        predictors_train, predictors_test, dependant_train, dependant_test, dependant_pred, importances = get_model(ano, rf_estimators)\n",
    "        visualizer = classification_report(\n",
    "            RandomForestClassifier(), predictors_train, dependant_train, predictors_test, dependant_test, classes=label_encoder.classes_, support=True\n",
    "        )\n",
    "\n",
    "def on_button_clicked(b):\n",
    "    rf_estimators = rf_est_slider.value\n",
    "    ano = ano_select.value\n",
    "    with out:\n",
    "        out.clear_output(wait=True)\n",
    "        predictors_train, predictors_test, dependant_train, dependant_test, dependant_pred, importances = get_model(ano, rf_estimators)\n",
    "        d = {'predictors_cols': predictors_train.columns, 'feature_imp': importances}\n",
    "        df_imp = pd.DataFrame(d)\n",
    "        df_imp_sorted = df_imp.sort_values(by=['feature_imp'], ascending=False)\n",
    "        df_imp_top_10 = df_imp_sorted.head(10)\n",
    "        #fig, ax = plt.subplots()\n",
    "        fig = px.bar(x = df_imp_top_10['predictors_cols'], y = df_imp_top_10['feature_imp'])\n",
    "        fig.update_layout(margin=go.layout.Margin(l=20, r=20, b=20, t=30), yaxis_title=None, xaxis_title=None)\n",
    "        fig.show()\n",
    "        #ax.barh(df_imp_top_10['predictors_cols'], df_imp_top_10['feature_imp'])\n",
    "        #plt.show()\n",
    "\n",
    "rf_est_slider.observe(on_button_clicked, names=\"value\")\n",
    "rf_est_slider.observe(display_classif_report, names=\"value\")\n",
    "\n",
    "ano_select.observe(on_button_clicked, names=\"value\")\n",
    "ano_select.observe(display_classif_report, names=\"value\")"
   ]
  },
  {
   "cell_type": "code",
   "execution_count": 33,
   "metadata": {
    "tags": [
     "body"
    ]
   },
   "outputs": [
    {
     "data": {
      "application/vnd.plotly.v1+json": {
       "config": {
        "plotlyServerURL": "https://plot.ly"
       },
       "data": [
        {
         "alignmentgroup": "True",
         "hovertemplate": "x=%{x}<br>y=%{y}<extra></extra>",
         "legendgroup": "",
         "marker": {
          "color": "#636efa",
          "pattern": {
           "shape": ""
          }
         },
         "name": "",
         "offsetgroup": "",
         "orientation": "v",
         "showlegend": false,
         "textposition": "auto",
         "type": "bar",
         "x": [
          "experience",
          "age",
          "seniority",
          "ben_flexhours",
          "education_universidad",
          "ben_healthmajor",
          "ben_loan",
          "ben_vouchers",
          "act_req",
          "edutype_escuela"
         ],
         "xaxis": "x",
         "y": [
          0.06351722420716044,
          0.05902253665625246,
          0.04260899993400446,
          0.01788005976353961,
          0.017332884887099723,
          0.016232552716409977,
          0.016205426382318918,
          0.01571388983079859,
          0.015519152558477743,
          0.015397006142034042
         ],
         "yaxis": "y"
        }
       ],
       "layout": {
        "barmode": "relative",
        "legend": {
         "tracegroupgap": 0
        },
        "margin": {
         "b": 20,
         "l": 20,
         "r": 20,
         "t": 30
        },
        "template": {
         "data": {
          "bar": [
           {
            "error_x": {
             "color": "#2a3f5f"
            },
            "error_y": {
             "color": "#2a3f5f"
            },
            "marker": {
             "line": {
              "color": "#E5ECF6",
              "width": 0.5
             },
             "pattern": {
              "fillmode": "overlay",
              "size": 10,
              "solidity": 0.2
             }
            },
            "type": "bar"
           }
          ],
          "barpolar": [
           {
            "marker": {
             "line": {
              "color": "#E5ECF6",
              "width": 0.5
             },
             "pattern": {
              "fillmode": "overlay",
              "size": 10,
              "solidity": 0.2
             }
            },
            "type": "barpolar"
           }
          ],
          "carpet": [
           {
            "aaxis": {
             "endlinecolor": "#2a3f5f",
             "gridcolor": "white",
             "linecolor": "white",
             "minorgridcolor": "white",
             "startlinecolor": "#2a3f5f"
            },
            "baxis": {
             "endlinecolor": "#2a3f5f",
             "gridcolor": "white",
             "linecolor": "white",
             "minorgridcolor": "white",
             "startlinecolor": "#2a3f5f"
            },
            "type": "carpet"
           }
          ],
          "choropleth": [
           {
            "colorbar": {
             "outlinewidth": 0,
             "ticks": ""
            },
            "type": "choropleth"
           }
          ],
          "contour": [
           {
            "colorbar": {
             "outlinewidth": 0,
             "ticks": ""
            },
            "colorscale": [
             [
              0,
              "#0d0887"
             ],
             [
              0.1111111111111111,
              "#46039f"
             ],
             [
              0.2222222222222222,
              "#7201a8"
             ],
             [
              0.3333333333333333,
              "#9c179e"
             ],
             [
              0.4444444444444444,
              "#bd3786"
             ],
             [
              0.5555555555555556,
              "#d8576b"
             ],
             [
              0.6666666666666666,
              "#ed7953"
             ],
             [
              0.7777777777777778,
              "#fb9f3a"
             ],
             [
              0.8888888888888888,
              "#fdca26"
             ],
             [
              1,
              "#f0f921"
             ]
            ],
            "type": "contour"
           }
          ],
          "contourcarpet": [
           {
            "colorbar": {
             "outlinewidth": 0,
             "ticks": ""
            },
            "type": "contourcarpet"
           }
          ],
          "heatmap": [
           {
            "colorbar": {
             "outlinewidth": 0,
             "ticks": ""
            },
            "colorscale": [
             [
              0,
              "#0d0887"
             ],
             [
              0.1111111111111111,
              "#46039f"
             ],
             [
              0.2222222222222222,
              "#7201a8"
             ],
             [
              0.3333333333333333,
              "#9c179e"
             ],
             [
              0.4444444444444444,
              "#bd3786"
             ],
             [
              0.5555555555555556,
              "#d8576b"
             ],
             [
              0.6666666666666666,
              "#ed7953"
             ],
             [
              0.7777777777777778,
              "#fb9f3a"
             ],
             [
              0.8888888888888888,
              "#fdca26"
             ],
             [
              1,
              "#f0f921"
             ]
            ],
            "type": "heatmap"
           }
          ],
          "heatmapgl": [
           {
            "colorbar": {
             "outlinewidth": 0,
             "ticks": ""
            },
            "colorscale": [
             [
              0,
              "#0d0887"
             ],
             [
              0.1111111111111111,
              "#46039f"
             ],
             [
              0.2222222222222222,
              "#7201a8"
             ],
             [
              0.3333333333333333,
              "#9c179e"
             ],
             [
              0.4444444444444444,
              "#bd3786"
             ],
             [
              0.5555555555555556,
              "#d8576b"
             ],
             [
              0.6666666666666666,
              "#ed7953"
             ],
             [
              0.7777777777777778,
              "#fb9f3a"
             ],
             [
              0.8888888888888888,
              "#fdca26"
             ],
             [
              1,
              "#f0f921"
             ]
            ],
            "type": "heatmapgl"
           }
          ],
          "histogram": [
           {
            "marker": {
             "pattern": {
              "fillmode": "overlay",
              "size": 10,
              "solidity": 0.2
             }
            },
            "type": "histogram"
           }
          ],
          "histogram2d": [
           {
            "colorbar": {
             "outlinewidth": 0,
             "ticks": ""
            },
            "colorscale": [
             [
              0,
              "#0d0887"
             ],
             [
              0.1111111111111111,
              "#46039f"
             ],
             [
              0.2222222222222222,
              "#7201a8"
             ],
             [
              0.3333333333333333,
              "#9c179e"
             ],
             [
              0.4444444444444444,
              "#bd3786"
             ],
             [
              0.5555555555555556,
              "#d8576b"
             ],
             [
              0.6666666666666666,
              "#ed7953"
             ],
             [
              0.7777777777777778,
              "#fb9f3a"
             ],
             [
              0.8888888888888888,
              "#fdca26"
             ],
             [
              1,
              "#f0f921"
             ]
            ],
            "type": "histogram2d"
           }
          ],
          "histogram2dcontour": [
           {
            "colorbar": {
             "outlinewidth": 0,
             "ticks": ""
            },
            "colorscale": [
             [
              0,
              "#0d0887"
             ],
             [
              0.1111111111111111,
              "#46039f"
             ],
             [
              0.2222222222222222,
              "#7201a8"
             ],
             [
              0.3333333333333333,
              "#9c179e"
             ],
             [
              0.4444444444444444,
              "#bd3786"
             ],
             [
              0.5555555555555556,
              "#d8576b"
             ],
             [
              0.6666666666666666,
              "#ed7953"
             ],
             [
              0.7777777777777778,
              "#fb9f3a"
             ],
             [
              0.8888888888888888,
              "#fdca26"
             ],
             [
              1,
              "#f0f921"
             ]
            ],
            "type": "histogram2dcontour"
           }
          ],
          "mesh3d": [
           {
            "colorbar": {
             "outlinewidth": 0,
             "ticks": ""
            },
            "type": "mesh3d"
           }
          ],
          "parcoords": [
           {
            "line": {
             "colorbar": {
              "outlinewidth": 0,
              "ticks": ""
             }
            },
            "type": "parcoords"
           }
          ],
          "pie": [
           {
            "automargin": true,
            "type": "pie"
           }
          ],
          "scatter": [
           {
            "fillpattern": {
             "fillmode": "overlay",
             "size": 10,
             "solidity": 0.2
            },
            "type": "scatter"
           }
          ],
          "scatter3d": [
           {
            "line": {
             "colorbar": {
              "outlinewidth": 0,
              "ticks": ""
             }
            },
            "marker": {
             "colorbar": {
              "outlinewidth": 0,
              "ticks": ""
             }
            },
            "type": "scatter3d"
           }
          ],
          "scattercarpet": [
           {
            "marker": {
             "colorbar": {
              "outlinewidth": 0,
              "ticks": ""
             }
            },
            "type": "scattercarpet"
           }
          ],
          "scattergeo": [
           {
            "marker": {
             "colorbar": {
              "outlinewidth": 0,
              "ticks": ""
             }
            },
            "type": "scattergeo"
           }
          ],
          "scattergl": [
           {
            "marker": {
             "colorbar": {
              "outlinewidth": 0,
              "ticks": ""
             }
            },
            "type": "scattergl"
           }
          ],
          "scattermapbox": [
           {
            "marker": {
             "colorbar": {
              "outlinewidth": 0,
              "ticks": ""
             }
            },
            "type": "scattermapbox"
           }
          ],
          "scatterpolar": [
           {
            "marker": {
             "colorbar": {
              "outlinewidth": 0,
              "ticks": ""
             }
            },
            "type": "scatterpolar"
           }
          ],
          "scatterpolargl": [
           {
            "marker": {
             "colorbar": {
              "outlinewidth": 0,
              "ticks": ""
             }
            },
            "type": "scatterpolargl"
           }
          ],
          "scatterternary": [
           {
            "marker": {
             "colorbar": {
              "outlinewidth": 0,
              "ticks": ""
             }
            },
            "type": "scatterternary"
           }
          ],
          "surface": [
           {
            "colorbar": {
             "outlinewidth": 0,
             "ticks": ""
            },
            "colorscale": [
             [
              0,
              "#0d0887"
             ],
             [
              0.1111111111111111,
              "#46039f"
             ],
             [
              0.2222222222222222,
              "#7201a8"
             ],
             [
              0.3333333333333333,
              "#9c179e"
             ],
             [
              0.4444444444444444,
              "#bd3786"
             ],
             [
              0.5555555555555556,
              "#d8576b"
             ],
             [
              0.6666666666666666,
              "#ed7953"
             ],
             [
              0.7777777777777778,
              "#fb9f3a"
             ],
             [
              0.8888888888888888,
              "#fdca26"
             ],
             [
              1,
              "#f0f921"
             ]
            ],
            "type": "surface"
           }
          ],
          "table": [
           {
            "cells": {
             "fill": {
              "color": "#EBF0F8"
             },
             "line": {
              "color": "white"
             }
            },
            "header": {
             "fill": {
              "color": "#C8D4E3"
             },
             "line": {
              "color": "white"
             }
            },
            "type": "table"
           }
          ]
         },
         "layout": {
          "annotationdefaults": {
           "arrowcolor": "#2a3f5f",
           "arrowhead": 0,
           "arrowwidth": 1
          },
          "autotypenumbers": "strict",
          "coloraxis": {
           "colorbar": {
            "outlinewidth": 0,
            "ticks": ""
           }
          },
          "colorscale": {
           "diverging": [
            [
             0,
             "#8e0152"
            ],
            [
             0.1,
             "#c51b7d"
            ],
            [
             0.2,
             "#de77ae"
            ],
            [
             0.3,
             "#f1b6da"
            ],
            [
             0.4,
             "#fde0ef"
            ],
            [
             0.5,
             "#f7f7f7"
            ],
            [
             0.6,
             "#e6f5d0"
            ],
            [
             0.7,
             "#b8e186"
            ],
            [
             0.8,
             "#7fbc41"
            ],
            [
             0.9,
             "#4d9221"
            ],
            [
             1,
             "#276419"
            ]
           ],
           "sequential": [
            [
             0,
             "#0d0887"
            ],
            [
             0.1111111111111111,
             "#46039f"
            ],
            [
             0.2222222222222222,
             "#7201a8"
            ],
            [
             0.3333333333333333,
             "#9c179e"
            ],
            [
             0.4444444444444444,
             "#bd3786"
            ],
            [
             0.5555555555555556,
             "#d8576b"
            ],
            [
             0.6666666666666666,
             "#ed7953"
            ],
            [
             0.7777777777777778,
             "#fb9f3a"
            ],
            [
             0.8888888888888888,
             "#fdca26"
            ],
            [
             1,
             "#f0f921"
            ]
           ],
           "sequentialminus": [
            [
             0,
             "#0d0887"
            ],
            [
             0.1111111111111111,
             "#46039f"
            ],
            [
             0.2222222222222222,
             "#7201a8"
            ],
            [
             0.3333333333333333,
             "#9c179e"
            ],
            [
             0.4444444444444444,
             "#bd3786"
            ],
            [
             0.5555555555555556,
             "#d8576b"
            ],
            [
             0.6666666666666666,
             "#ed7953"
            ],
            [
             0.7777777777777778,
             "#fb9f3a"
            ],
            [
             0.8888888888888888,
             "#fdca26"
            ],
            [
             1,
             "#f0f921"
            ]
           ]
          },
          "colorway": [
           "#636efa",
           "#EF553B",
           "#00cc96",
           "#ab63fa",
           "#FFA15A",
           "#19d3f3",
           "#FF6692",
           "#B6E880",
           "#FF97FF",
           "#FECB52"
          ],
          "font": {
           "color": "#2a3f5f"
          },
          "geo": {
           "bgcolor": "white",
           "lakecolor": "white",
           "landcolor": "#E5ECF6",
           "showlakes": true,
           "showland": true,
           "subunitcolor": "white"
          },
          "hoverlabel": {
           "align": "left"
          },
          "hovermode": "closest",
          "mapbox": {
           "style": "light"
          },
          "paper_bgcolor": "white",
          "plot_bgcolor": "#E5ECF6",
          "polar": {
           "angularaxis": {
            "gridcolor": "white",
            "linecolor": "white",
            "ticks": ""
           },
           "bgcolor": "#E5ECF6",
           "radialaxis": {
            "gridcolor": "white",
            "linecolor": "white",
            "ticks": ""
           }
          },
          "scene": {
           "xaxis": {
            "backgroundcolor": "#E5ECF6",
            "gridcolor": "white",
            "gridwidth": 2,
            "linecolor": "white",
            "showbackground": true,
            "ticks": "",
            "zerolinecolor": "white"
           },
           "yaxis": {
            "backgroundcolor": "#E5ECF6",
            "gridcolor": "white",
            "gridwidth": 2,
            "linecolor": "white",
            "showbackground": true,
            "ticks": "",
            "zerolinecolor": "white"
           },
           "zaxis": {
            "backgroundcolor": "#E5ECF6",
            "gridcolor": "white",
            "gridwidth": 2,
            "linecolor": "white",
            "showbackground": true,
            "ticks": "",
            "zerolinecolor": "white"
           }
          },
          "shapedefaults": {
           "line": {
            "color": "#2a3f5f"
           }
          },
          "ternary": {
           "aaxis": {
            "gridcolor": "white",
            "linecolor": "white",
            "ticks": ""
           },
           "baxis": {
            "gridcolor": "white",
            "linecolor": "white",
            "ticks": ""
           },
           "bgcolor": "#E5ECF6",
           "caxis": {
            "gridcolor": "white",
            "linecolor": "white",
            "ticks": ""
           }
          },
          "title": {
           "x": 0.05
          },
          "xaxis": {
           "automargin": true,
           "gridcolor": "white",
           "linecolor": "white",
           "ticks": "",
           "title": {
            "standoff": 15
           },
           "zerolinecolor": "white",
           "zerolinewidth": 2
          },
          "yaxis": {
           "automargin": true,
           "gridcolor": "white",
           "linecolor": "white",
           "ticks": "",
           "title": {
            "standoff": 15
           },
           "zerolinecolor": "white",
           "zerolinewidth": 2
          }
         }
        },
        "xaxis": {
         "anchor": "y",
         "domain": [
          0,
          1
         ],
         "title": {}
        },
        "yaxis": {
         "anchor": "x",
         "domain": [
          0,
          1
         ],
         "title": {}
        }
       }
      },
      "text/html": [
       "<div>                            <div id=\"85bcc90a-251a-4653-9354-7f34c82adbb5\" class=\"plotly-graph-div\" style=\"height:525px; width:100%;\"></div>            <script type=\"text/javascript\">                require([\"plotly\"], function(Plotly) {                    window.PLOTLYENV=window.PLOTLYENV || {};                                    if (document.getElementById(\"85bcc90a-251a-4653-9354-7f34c82adbb5\")) {                    Plotly.newPlot(                        \"85bcc90a-251a-4653-9354-7f34c82adbb5\",                        [{\"alignmentgroup\":\"True\",\"hovertemplate\":\"x=%{x}<br>y=%{y}<extra></extra>\",\"legendgroup\":\"\",\"marker\":{\"color\":\"#636efa\",\"pattern\":{\"shape\":\"\"}},\"name\":\"\",\"offsetgroup\":\"\",\"orientation\":\"v\",\"showlegend\":false,\"textposition\":\"auto\",\"x\":[\"experience\",\"age\",\"seniority\",\"ben_flexhours\",\"education_universidad\",\"ben_healthmajor\",\"ben_loan\",\"ben_vouchers\",\"act_req\",\"edutype_escuela\"],\"xaxis\":\"x\",\"y\":[0.06351722420716044,0.05902253665625246,0.04260899993400446,0.01788005976353961,0.017332884887099723,0.016232552716409977,0.016205426382318918,0.01571388983079859,0.015519152558477743,0.015397006142034042],\"yaxis\":\"y\",\"type\":\"bar\"}],                        {\"template\":{\"data\":{\"histogram2dcontour\":[{\"type\":\"histogram2dcontour\",\"colorbar\":{\"outlinewidth\":0,\"ticks\":\"\"},\"colorscale\":[[0.0,\"#0d0887\"],[0.1111111111111111,\"#46039f\"],[0.2222222222222222,\"#7201a8\"],[0.3333333333333333,\"#9c179e\"],[0.4444444444444444,\"#bd3786\"],[0.5555555555555556,\"#d8576b\"],[0.6666666666666666,\"#ed7953\"],[0.7777777777777778,\"#fb9f3a\"],[0.8888888888888888,\"#fdca26\"],[1.0,\"#f0f921\"]]}],\"choropleth\":[{\"type\":\"choropleth\",\"colorbar\":{\"outlinewidth\":0,\"ticks\":\"\"}}],\"histogram2d\":[{\"type\":\"histogram2d\",\"colorbar\":{\"outlinewidth\":0,\"ticks\":\"\"},\"colorscale\":[[0.0,\"#0d0887\"],[0.1111111111111111,\"#46039f\"],[0.2222222222222222,\"#7201a8\"],[0.3333333333333333,\"#9c179e\"],[0.4444444444444444,\"#bd3786\"],[0.5555555555555556,\"#d8576b\"],[0.6666666666666666,\"#ed7953\"],[0.7777777777777778,\"#fb9f3a\"],[0.8888888888888888,\"#fdca26\"],[1.0,\"#f0f921\"]]}],\"heatmap\":[{\"type\":\"heatmap\",\"colorbar\":{\"outlinewidth\":0,\"ticks\":\"\"},\"colorscale\":[[0.0,\"#0d0887\"],[0.1111111111111111,\"#46039f\"],[0.2222222222222222,\"#7201a8\"],[0.3333333333333333,\"#9c179e\"],[0.4444444444444444,\"#bd3786\"],[0.5555555555555556,\"#d8576b\"],[0.6666666666666666,\"#ed7953\"],[0.7777777777777778,\"#fb9f3a\"],[0.8888888888888888,\"#fdca26\"],[1.0,\"#f0f921\"]]}],\"heatmapgl\":[{\"type\":\"heatmapgl\",\"colorbar\":{\"outlinewidth\":0,\"ticks\":\"\"},\"colorscale\":[[0.0,\"#0d0887\"],[0.1111111111111111,\"#46039f\"],[0.2222222222222222,\"#7201a8\"],[0.3333333333333333,\"#9c179e\"],[0.4444444444444444,\"#bd3786\"],[0.5555555555555556,\"#d8576b\"],[0.6666666666666666,\"#ed7953\"],[0.7777777777777778,\"#fb9f3a\"],[0.8888888888888888,\"#fdca26\"],[1.0,\"#f0f921\"]]}],\"contourcarpet\":[{\"type\":\"contourcarpet\",\"colorbar\":{\"outlinewidth\":0,\"ticks\":\"\"}}],\"contour\":[{\"type\":\"contour\",\"colorbar\":{\"outlinewidth\":0,\"ticks\":\"\"},\"colorscale\":[[0.0,\"#0d0887\"],[0.1111111111111111,\"#46039f\"],[0.2222222222222222,\"#7201a8\"],[0.3333333333333333,\"#9c179e\"],[0.4444444444444444,\"#bd3786\"],[0.5555555555555556,\"#d8576b\"],[0.6666666666666666,\"#ed7953\"],[0.7777777777777778,\"#fb9f3a\"],[0.8888888888888888,\"#fdca26\"],[1.0,\"#f0f921\"]]}],\"surface\":[{\"type\":\"surface\",\"colorbar\":{\"outlinewidth\":0,\"ticks\":\"\"},\"colorscale\":[[0.0,\"#0d0887\"],[0.1111111111111111,\"#46039f\"],[0.2222222222222222,\"#7201a8\"],[0.3333333333333333,\"#9c179e\"],[0.4444444444444444,\"#bd3786\"],[0.5555555555555556,\"#d8576b\"],[0.6666666666666666,\"#ed7953\"],[0.7777777777777778,\"#fb9f3a\"],[0.8888888888888888,\"#fdca26\"],[1.0,\"#f0f921\"]]}],\"mesh3d\":[{\"type\":\"mesh3d\",\"colorbar\":{\"outlinewidth\":0,\"ticks\":\"\"}}],\"scatter\":[{\"fillpattern\":{\"fillmode\":\"overlay\",\"size\":10,\"solidity\":0.2},\"type\":\"scatter\"}],\"parcoords\":[{\"type\":\"parcoords\",\"line\":{\"colorbar\":{\"outlinewidth\":0,\"ticks\":\"\"}}}],\"scatterpolargl\":[{\"type\":\"scatterpolargl\",\"marker\":{\"colorbar\":{\"outlinewidth\":0,\"ticks\":\"\"}}}],\"bar\":[{\"error_x\":{\"color\":\"#2a3f5f\"},\"error_y\":{\"color\":\"#2a3f5f\"},\"marker\":{\"line\":{\"color\":\"#E5ECF6\",\"width\":0.5},\"pattern\":{\"fillmode\":\"overlay\",\"size\":10,\"solidity\":0.2}},\"type\":\"bar\"}],\"scattergeo\":[{\"type\":\"scattergeo\",\"marker\":{\"colorbar\":{\"outlinewidth\":0,\"ticks\":\"\"}}}],\"scatterpolar\":[{\"type\":\"scatterpolar\",\"marker\":{\"colorbar\":{\"outlinewidth\":0,\"ticks\":\"\"}}}],\"histogram\":[{\"marker\":{\"pattern\":{\"fillmode\":\"overlay\",\"size\":10,\"solidity\":0.2}},\"type\":\"histogram\"}],\"scattergl\":[{\"type\":\"scattergl\",\"marker\":{\"colorbar\":{\"outlinewidth\":0,\"ticks\":\"\"}}}],\"scatter3d\":[{\"type\":\"scatter3d\",\"line\":{\"colorbar\":{\"outlinewidth\":0,\"ticks\":\"\"}},\"marker\":{\"colorbar\":{\"outlinewidth\":0,\"ticks\":\"\"}}}],\"scattermapbox\":[{\"type\":\"scattermapbox\",\"marker\":{\"colorbar\":{\"outlinewidth\":0,\"ticks\":\"\"}}}],\"scatterternary\":[{\"type\":\"scatterternary\",\"marker\":{\"colorbar\":{\"outlinewidth\":0,\"ticks\":\"\"}}}],\"scattercarpet\":[{\"type\":\"scattercarpet\",\"marker\":{\"colorbar\":{\"outlinewidth\":0,\"ticks\":\"\"}}}],\"carpet\":[{\"aaxis\":{\"endlinecolor\":\"#2a3f5f\",\"gridcolor\":\"white\",\"linecolor\":\"white\",\"minorgridcolor\":\"white\",\"startlinecolor\":\"#2a3f5f\"},\"baxis\":{\"endlinecolor\":\"#2a3f5f\",\"gridcolor\":\"white\",\"linecolor\":\"white\",\"minorgridcolor\":\"white\",\"startlinecolor\":\"#2a3f5f\"},\"type\":\"carpet\"}],\"table\":[{\"cells\":{\"fill\":{\"color\":\"#EBF0F8\"},\"line\":{\"color\":\"white\"}},\"header\":{\"fill\":{\"color\":\"#C8D4E3\"},\"line\":{\"color\":\"white\"}},\"type\":\"table\"}],\"barpolar\":[{\"marker\":{\"line\":{\"color\":\"#E5ECF6\",\"width\":0.5},\"pattern\":{\"fillmode\":\"overlay\",\"size\":10,\"solidity\":0.2}},\"type\":\"barpolar\"}],\"pie\":[{\"automargin\":true,\"type\":\"pie\"}]},\"layout\":{\"autotypenumbers\":\"strict\",\"colorway\":[\"#636efa\",\"#EF553B\",\"#00cc96\",\"#ab63fa\",\"#FFA15A\",\"#19d3f3\",\"#FF6692\",\"#B6E880\",\"#FF97FF\",\"#FECB52\"],\"font\":{\"color\":\"#2a3f5f\"},\"hovermode\":\"closest\",\"hoverlabel\":{\"align\":\"left\"},\"paper_bgcolor\":\"white\",\"plot_bgcolor\":\"#E5ECF6\",\"polar\":{\"bgcolor\":\"#E5ECF6\",\"angularaxis\":{\"gridcolor\":\"white\",\"linecolor\":\"white\",\"ticks\":\"\"},\"radialaxis\":{\"gridcolor\":\"white\",\"linecolor\":\"white\",\"ticks\":\"\"}},\"ternary\":{\"bgcolor\":\"#E5ECF6\",\"aaxis\":{\"gridcolor\":\"white\",\"linecolor\":\"white\",\"ticks\":\"\"},\"baxis\":{\"gridcolor\":\"white\",\"linecolor\":\"white\",\"ticks\":\"\"},\"caxis\":{\"gridcolor\":\"white\",\"linecolor\":\"white\",\"ticks\":\"\"}},\"coloraxis\":{\"colorbar\":{\"outlinewidth\":0,\"ticks\":\"\"}},\"colorscale\":{\"sequential\":[[0.0,\"#0d0887\"],[0.1111111111111111,\"#46039f\"],[0.2222222222222222,\"#7201a8\"],[0.3333333333333333,\"#9c179e\"],[0.4444444444444444,\"#bd3786\"],[0.5555555555555556,\"#d8576b\"],[0.6666666666666666,\"#ed7953\"],[0.7777777777777778,\"#fb9f3a\"],[0.8888888888888888,\"#fdca26\"],[1.0,\"#f0f921\"]],\"sequentialminus\":[[0.0,\"#0d0887\"],[0.1111111111111111,\"#46039f\"],[0.2222222222222222,\"#7201a8\"],[0.3333333333333333,\"#9c179e\"],[0.4444444444444444,\"#bd3786\"],[0.5555555555555556,\"#d8576b\"],[0.6666666666666666,\"#ed7953\"],[0.7777777777777778,\"#fb9f3a\"],[0.8888888888888888,\"#fdca26\"],[1.0,\"#f0f921\"]],\"diverging\":[[0,\"#8e0152\"],[0.1,\"#c51b7d\"],[0.2,\"#de77ae\"],[0.3,\"#f1b6da\"],[0.4,\"#fde0ef\"],[0.5,\"#f7f7f7\"],[0.6,\"#e6f5d0\"],[0.7,\"#b8e186\"],[0.8,\"#7fbc41\"],[0.9,\"#4d9221\"],[1,\"#276419\"]]},\"xaxis\":{\"gridcolor\":\"white\",\"linecolor\":\"white\",\"ticks\":\"\",\"title\":{\"standoff\":15},\"zerolinecolor\":\"white\",\"automargin\":true,\"zerolinewidth\":2},\"yaxis\":{\"gridcolor\":\"white\",\"linecolor\":\"white\",\"ticks\":\"\",\"title\":{\"standoff\":15},\"zerolinecolor\":\"white\",\"automargin\":true,\"zerolinewidth\":2},\"scene\":{\"xaxis\":{\"backgroundcolor\":\"#E5ECF6\",\"gridcolor\":\"white\",\"linecolor\":\"white\",\"showbackground\":true,\"ticks\":\"\",\"zerolinecolor\":\"white\",\"gridwidth\":2},\"yaxis\":{\"backgroundcolor\":\"#E5ECF6\",\"gridcolor\":\"white\",\"linecolor\":\"white\",\"showbackground\":true,\"ticks\":\"\",\"zerolinecolor\":\"white\",\"gridwidth\":2},\"zaxis\":{\"backgroundcolor\":\"#E5ECF6\",\"gridcolor\":\"white\",\"linecolor\":\"white\",\"showbackground\":true,\"ticks\":\"\",\"zerolinecolor\":\"white\",\"gridwidth\":2}},\"shapedefaults\":{\"line\":{\"color\":\"#2a3f5f\"}},\"annotationdefaults\":{\"arrowcolor\":\"#2a3f5f\",\"arrowhead\":0,\"arrowwidth\":1},\"geo\":{\"bgcolor\":\"white\",\"landcolor\":\"#E5ECF6\",\"subunitcolor\":\"white\",\"showland\":true,\"showlakes\":true,\"lakecolor\":\"white\"},\"title\":{\"x\":0.05},\"mapbox\":{\"style\":\"light\"}}},\"xaxis\":{\"anchor\":\"y\",\"domain\":[0.0,1.0],\"title\":{}},\"yaxis\":{\"anchor\":\"x\",\"domain\":[0.0,1.0],\"title\":{}},\"legend\":{\"tracegroupgap\":0},\"margin\":{\"b\":20,\"l\":20,\"r\":20,\"t\":30},\"barmode\":\"relative\"},                        {\"responsive\": true}                    ).then(function(){\n",
       "                            \n",
       "var gd = document.getElementById('85bcc90a-251a-4653-9354-7f34c82adbb5');\n",
       "var x = new MutationObserver(function (mutations, observer) {{\n",
       "        var display = window.getComputedStyle(gd).display;\n",
       "        if (!display || display === 'none') {{\n",
       "            console.log([gd, 'removed!']);\n",
       "            Plotly.purge(gd);\n",
       "            observer.disconnect();\n",
       "        }}\n",
       "}});\n",
       "\n",
       "// Listen for the removal of the full notebook cells\n",
       "var notebookContainer = gd.closest('#notebook-container');\n",
       "if (notebookContainer) {{\n",
       "    x.observe(notebookContainer, {childList: true});\n",
       "}}\n",
       "\n",
       "// Listen for the clearing of the current output cell\n",
       "var outputEl = gd.closest('.output');\n",
       "if (outputEl) {{\n",
       "    x.observe(outputEl, {childList: true});\n",
       "}}\n",
       "\n",
       "                        })                };                });            </script>        </div>"
      ]
     },
     "metadata": {},
     "output_type": "display_data"
    },
    {
     "data": {
      "application/vnd.jupyter.widget-view+json": {
       "model_id": "00e2446db5fb4d4487c37d2ff737291e",
       "version_major": 2,
       "version_minor": 0
      },
      "text/plain": [
       "Output()"
      ]
     },
     "metadata": {},
     "output_type": "display_data"
    }
   ],
   "source": [
    "on_button_clicked(None)\n",
    "out"
   ]
  },
  {
   "cell_type": "markdown",
   "metadata": {},
   "source": [
    "### Column 2 - Row 2"
   ]
  },
  {
   "cell_type": "code",
   "execution_count": 34,
   "metadata": {
    "tags": [
     "body"
    ]
   },
   "outputs": [
    {
     "data": {
      "application/vnd.jupyter.widget-view+json": {
       "model_id": "8ccd30eded1842a681f34b9e470d7869",
       "version_major": 2,
       "version_minor": 0
      },
      "text/plain": [
       "Output()"
      ]
     },
     "metadata": {},
     "output_type": "display_data"
    }
   ],
   "source": [
    "display_classif_report(None)\n",
    "out2"
   ]
  }
 ],
 "metadata": {
  "kernelspec": {
   "display_name": "Python 3.9.7 ('base')",
   "language": "python",
   "name": "python3"
  },
  "language_info": {
   "codemirror_mode": {
    "name": "ipython",
    "version": 3
   },
   "file_extension": ".py",
   "mimetype": "text/x-python",
   "name": "python",
   "nbconvert_exporter": "python",
   "pygments_lexer": "ipython3",
   "version": "3.9.7"
  },
  "orig_nbformat": 4,
  "vscode": {
   "interpreter": {
    "hash": "9e6d81d4cccaf1b74c4098770a4a340b63de8462e770a17a2a97759976b8f1bd"
   }
  }
 },
 "nbformat": 4,
 "nbformat_minor": 2
}
